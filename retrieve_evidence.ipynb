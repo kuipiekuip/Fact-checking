{
 "cells": [
  {
   "cell_type": "code",
   "execution_count": 3,
   "metadata": {},
   "outputs": [],
   "source": [
    "import json\n",
    "from rank_bm25 import BM25Okapi\n",
    "from tqdm import tqdm"
   ]
  },
  {
   "cell_type": "code",
   "execution_count": 7,
   "metadata": {},
   "outputs": [
    {
     "name": "stderr",
     "output_type": "stream",
     "text": [
      "<>:1: SyntaxWarning: invalid escape sequence '\\c'\n",
      "<>:1: SyntaxWarning: invalid escape sequence '\\c'\n",
      "C:\\Users\\kuipe\\AppData\\Local\\Temp\\ipykernel_12024\\952399766.py:1: SyntaxWarning: invalid escape sequence '\\c'\n",
      "  with open('data\\corpus_evidence_unified.json', 'r') as f:\n"
     ]
    }
   ],
   "source": [
    "with open('data\\corpus_evidence_unified.json', 'r') as f:\n",
    "    evidence_corpus = json.load(f)\n",
    "\n",
    "# evidence_corpus[0]"
   ]
  },
  {
   "cell_type": "code",
   "execution_count": 15,
   "metadata": {},
   "outputs": [],
   "source": [
    "# Load the claims\n",
    "with open(r'data\\train_claims_quantemp.json', 'r') as f:\n",
    "    claims = json.load(f)\n"
   ]
  },
  {
   "cell_type": "code",
   "execution_count": 18,
   "metadata": {},
   "outputs": [
    {
     "name": "stderr",
     "output_type": "stream",
     "text": [
      "100%|██████████| 423320/423320 [00:00<00:00, 3066773.01it/s]\n"
     ]
    }
   ],
   "source": [
    "corpus = [evidence for evidence in tqdm(evidence_corpus.values())]\n",
    "tokenized_corpus = [doc.split() for doc in corpus]"
   ]
  },
  {
   "cell_type": "code",
   "execution_count": 20,
   "metadata": {},
   "outputs": [],
   "source": [
    "bm25 = BM25Okapi(tokenized_corpus)"
   ]
  },
  {
   "cell_type": "code",
   "execution_count": 29,
   "metadata": {},
   "outputs": [],
   "source": [
    "def retrieve_evidence(claim, k=100):\n",
    "    tokenized_claim = claim.split()\n",
    "    scores = bm25.get_scores(tokenized_claim)\n",
    "    top_k_indices = scores.argsort()[-k:][::-1]\n",
    "    top_k_documents = [corpus[idx] for idx in top_k_indices]\n",
    "    return top_k_documents"
   ]
  },
  {
   "cell_type": "code",
   "execution_count": 30,
   "metadata": {},
   "outputs": [],
   "source": [
    "# Prepare data for NLI model\n",
    "def prepare_nli_input(claim, evidence):\n",
    "    nli_input = {\n",
    "        'claim': claim,\n",
    "        'evidence': \" \".join(evidence)  # Concatenate top-k evidence into a single string\n",
    "    }\n",
    "    return nli_input"
   ]
  },
  {
   "cell_type": "code",
   "execution_count": 34,
   "metadata": {},
   "outputs": [
    {
     "name": "stderr",
     "output_type": "stream",
     "text": [
      "  0%|          | 0/9935 [00:00<?, ?it/s]"
     ]
    },
    {
     "name": "stderr",
     "output_type": "stream",
     "text": [
      "  1%|          | 55/9935 [03:04<9:11:40,  3.35s/it] \n"
     ]
    },
    {
     "ename": "KeyboardInterrupt",
     "evalue": "",
     "output_type": "error",
     "traceback": [
      "\u001b[1;31m---------------------------------------------------------------------------\u001b[0m",
      "\u001b[1;31mKeyboardInterrupt\u001b[0m                         Traceback (most recent call last)",
      "Cell \u001b[1;32mIn[34], line 5\u001b[0m\n\u001b[0;32m      3\u001b[0m \u001b[38;5;28;01mfor\u001b[39;00m claim \u001b[38;5;129;01min\u001b[39;00m tqdm(claims):\n\u001b[0;32m      4\u001b[0m     claim_text \u001b[38;5;241m=\u001b[39m claim[\u001b[38;5;124m'\u001b[39m\u001b[38;5;124mclaim\u001b[39m\u001b[38;5;124m'\u001b[39m]\n\u001b[1;32m----> 5\u001b[0m     evidence \u001b[38;5;241m=\u001b[39m \u001b[43mretrieve_evidence\u001b[49m\u001b[43m(\u001b[49m\u001b[43mclaim_text\u001b[49m\u001b[43m)\u001b[49m\n\u001b[0;32m      6\u001b[0m     nli_input \u001b[38;5;241m=\u001b[39m prepare_nli_input(claim_text, evidence)\n\u001b[0;32m      7\u001b[0m     nli_data\u001b[38;5;241m.\u001b[39mappend(nli_input)\n",
      "Cell \u001b[1;32mIn[29], line 3\u001b[0m, in \u001b[0;36mretrieve_evidence\u001b[1;34m(claim, k)\u001b[0m\n\u001b[0;32m      1\u001b[0m \u001b[38;5;28;01mdef\u001b[39;00m \u001b[38;5;21mretrieve_evidence\u001b[39m(claim, k\u001b[38;5;241m=\u001b[39m\u001b[38;5;241m100\u001b[39m):\n\u001b[0;32m      2\u001b[0m     tokenized_claim \u001b[38;5;241m=\u001b[39m claim\u001b[38;5;241m.\u001b[39msplit()\n\u001b[1;32m----> 3\u001b[0m     scores \u001b[38;5;241m=\u001b[39m \u001b[43mbm25\u001b[49m\u001b[38;5;241;43m.\u001b[39;49m\u001b[43mget_scores\u001b[49m\u001b[43m(\u001b[49m\u001b[43mtokenized_claim\u001b[49m\u001b[43m)\u001b[49m\n\u001b[0;32m      4\u001b[0m     top_k_indices \u001b[38;5;241m=\u001b[39m scores\u001b[38;5;241m.\u001b[39margsort()[\u001b[38;5;241m-\u001b[39mk:][::\u001b[38;5;241m-\u001b[39m\u001b[38;5;241m1\u001b[39m]\n\u001b[0;32m      5\u001b[0m     top_k_documents \u001b[38;5;241m=\u001b[39m [corpus[idx] \u001b[38;5;28;01mfor\u001b[39;00m idx \u001b[38;5;129;01min\u001b[39;00m top_k_indices]\n",
      "File \u001b[1;32mc:\\Users\\kuipe\\OneDrive\\Bureaublad\\TU Delft\\Master\\NLP\\Fact-checking\\.venv\\Lib\\site-packages\\rank_bm25.py:119\u001b[0m, in \u001b[0;36mBM25Okapi.get_scores\u001b[1;34m(self, query)\u001b[0m\n\u001b[0;32m    117\u001b[0m \u001b[38;5;28;01mfor\u001b[39;00m q \u001b[38;5;129;01min\u001b[39;00m query:\n\u001b[0;32m    118\u001b[0m     q_freq \u001b[38;5;241m=\u001b[39m np\u001b[38;5;241m.\u001b[39marray([(doc\u001b[38;5;241m.\u001b[39mget(q) \u001b[38;5;129;01mor\u001b[39;00m \u001b[38;5;241m0\u001b[39m) \u001b[38;5;28;01mfor\u001b[39;00m doc \u001b[38;5;129;01min\u001b[39;00m \u001b[38;5;28mself\u001b[39m\u001b[38;5;241m.\u001b[39mdoc_freqs])\n\u001b[1;32m--> 119\u001b[0m     score \u001b[38;5;241m+\u001b[39m\u001b[38;5;241m=\u001b[39m (\u001b[38;5;28;43mself\u001b[39;49m\u001b[38;5;241;43m.\u001b[39;49m\u001b[43midf\u001b[49m\u001b[38;5;241;43m.\u001b[39;49m\u001b[43mget\u001b[49m\u001b[43m(\u001b[49m\u001b[43mq\u001b[49m\u001b[43m)\u001b[49m \u001b[38;5;129;01mor\u001b[39;00m \u001b[38;5;241m0\u001b[39m) \u001b[38;5;241m*\u001b[39m (q_freq \u001b[38;5;241m*\u001b[39m (\u001b[38;5;28mself\u001b[39m\u001b[38;5;241m.\u001b[39mk1 \u001b[38;5;241m+\u001b[39m \u001b[38;5;241m1\u001b[39m) \u001b[38;5;241m/\u001b[39m\n\u001b[0;32m    120\u001b[0m                                        (q_freq \u001b[38;5;241m+\u001b[39m \u001b[38;5;28mself\u001b[39m\u001b[38;5;241m.\u001b[39mk1 \u001b[38;5;241m*\u001b[39m (\u001b[38;5;241m1\u001b[39m \u001b[38;5;241m-\u001b[39m \u001b[38;5;28mself\u001b[39m\u001b[38;5;241m.\u001b[39mb \u001b[38;5;241m+\u001b[39m \u001b[38;5;28mself\u001b[39m\u001b[38;5;241m.\u001b[39mb \u001b[38;5;241m*\u001b[39m doc_len \u001b[38;5;241m/\u001b[39m \u001b[38;5;28mself\u001b[39m\u001b[38;5;241m.\u001b[39mavgdl)))\n\u001b[0;32m    121\u001b[0m \u001b[38;5;28;01mreturn\u001b[39;00m score\n",
      "\u001b[1;31mKeyboardInterrupt\u001b[0m: "
     ]
    }
   ],
   "source": [
    "# claims_subset = claims[:20]\n",
    "nli_data = []\n",
    "for claim in tqdm(claims):\n",
    "    claim_text = claim['claim']\n",
    "    evidence = retrieve_evidence(claim_text)\n",
    "    nli_input = prepare_nli_input(claim_text, evidence)\n",
    "    nli_data.append(nli_input)"
   ]
  },
  {
   "cell_type": "code",
   "execution_count": 33,
   "metadata": {},
   "outputs": [
    {
     "name": "stdout",
     "output_type": "stream",
     "text": [
      "19778\n"
     ]
    }
   ],
   "source": [
    "print(len(nli_data[0]['evidence']))"
   ]
  },
  {
   "cell_type": "code",
   "execution_count": 28,
   "metadata": {},
   "outputs": [
    {
     "name": "stdout",
     "output_type": "stream",
     "text": [
      "In her budget speech, Nirmala Sitharaman claimed that the Government distributed 35,000 crore LED bulbs in the country.\n"
     ]
    }
   ],
   "source": [
    "print(nli_data[0]['claim'])"
   ]
  },
  {
   "cell_type": "code",
   "execution_count": null,
   "metadata": {},
   "outputs": [],
   "source": []
  }
 ],
 "metadata": {
  "kernelspec": {
   "display_name": ".venv",
   "language": "python",
   "name": "python3"
  },
  "language_info": {
   "codemirror_mode": {
    "name": "ipython",
    "version": 3
   },
   "file_extension": ".py",
   "mimetype": "text/x-python",
   "name": "python",
   "nbconvert_exporter": "python",
   "pygments_lexer": "ipython3",
   "version": "3.12.3"
  }
 },
 "nbformat": 4,
 "nbformat_minor": 2
}
